{
 "cells": [
  {
   "cell_type": "code",
   "execution_count": 1,
   "id": "ef806014",
   "metadata": {},
   "outputs": [
    {
     "name": "stdout",
     "output_type": "stream",
     "text": [
      "importing Jupyter notebook from Fraud_model.ipynb\n",
      "     Undergrad  Marital.Status  Taxable.Income  Taxable_Class  \\\n",
      "0            0               2           68833              0   \n",
      "1            1               0           33700              0   \n",
      "2            0               1           36925              0   \n",
      "3            1               2           50190              0   \n",
      "4            0               1           81002              0   \n",
      "..         ...             ...             ...            ...   \n",
      "595          1               0           76340              0   \n",
      "596          1               0           69967              0   \n",
      "597          0               0           47334              0   \n",
      "598          1               1           98592              0   \n",
      "599          0               0           96519              0   \n",
      "\n",
      "     City.Population  Work.Experience  Urban  \n",
      "0              50047               10      1  \n",
      "1             134075               18      1  \n",
      "2             160205               30      1  \n",
      "3             193264               15      1  \n",
      "4              27533               28      0  \n",
      "..               ...              ...    ...  \n",
      "595            39492                7      1  \n",
      "596            55369                2      1  \n",
      "597           154058                0      1  \n",
      "598           180083               17      0  \n",
      "599           158137               16      0  \n",
      "\n",
      "[600 rows x 7 columns]\n",
      "CPU times: total: 219 ms\n",
      "Wall time: 1.3 s\n",
      "              precision    recall  f1-score   support\n",
      "\n",
      "           0       0.82      0.96      0.88        99\n",
      "           1       0.00      0.00      0.00        21\n",
      "\n",
      "    accuracy                           0.79       120\n",
      "   macro avg       0.41      0.48      0.44       120\n",
      "weighted avg       0.68      0.79      0.73       120\n",
      "\n"
     ]
    }
   ],
   "source": [
    "                   ## MAIN_FUNCTION## # RESULTS\n",
    "##importing the necessary libraries\n",
    "import import_ipynb\n",
    "import pandas as pd\n",
    "from Fraud_model import main_function"
   ]
  },
  {
   "cell_type": "code",
   "execution_count": 2,
   "id": "8fabb298",
   "metadata": {},
   "outputs": [
    {
     "name": "stdout",
     "output_type": "stream",
     "text": [
      "              precision    recall  f1-score   support\n",
      "\n",
      "           0       0.82      0.96      0.88        99\n",
      "           1       0.00      0.00      0.00        21\n",
      "\n",
      "    accuracy                           0.79       120\n",
      "   macro avg       0.41      0.48      0.44       120\n",
      "weighted avg       0.68      0.79      0.73       120\n",
      "\n"
     ]
    }
   ],
   "source": [
    "## Getting the results of model.\n",
    "results = main_function()\n",
    "print(results)"
   ]
  },
  {
   "cell_type": "markdown",
   "id": "8d3f74ab",
   "metadata": {},
   "source": [
    "The Accuracy of this model is 82% "
   ]
  }
 ],
 "metadata": {
  "kernelspec": {
   "display_name": "Python 3 (ipykernel)",
   "language": "python",
   "name": "python3"
  },
  "language_info": {
   "codemirror_mode": {
    "name": "ipython",
    "version": 3
   },
   "file_extension": ".py",
   "mimetype": "text/x-python",
   "name": "python",
   "nbconvert_exporter": "python",
   "pygments_lexer": "ipython3",
   "version": "3.11.3"
  }
 },
 "nbformat": 4,
 "nbformat_minor": 5
}
