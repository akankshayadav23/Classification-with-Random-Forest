{
 "cells": [
  {
   "cell_type": "code",
   "execution_count": 11,
   "id": "fb6c43df",
   "metadata": {},
   "outputs": [
    {
     "name": "stdout",
     "output_type": "stream",
     "text": [
      "     Undergrad  Marital.Status  Taxable.Income  Taxable_Class  \\\n",
      "0            0               2           68833              0   \n",
      "1            1               0           33700              0   \n",
      "2            0               1           36925              0   \n",
      "3            1               2           50190              0   \n",
      "4            0               1           81002              0   \n",
      "..         ...             ...             ...            ...   \n",
      "595          1               0           76340              0   \n",
      "596          1               0           69967              0   \n",
      "597          0               0           47334              0   \n",
      "598          1               1           98592              0   \n",
      "599          0               0           96519              0   \n",
      "\n",
      "     City.Population  Work.Experience  Urban  \n",
      "0              50047               10      1  \n",
      "1             134075               18      1  \n",
      "2             160205               30      1  \n",
      "3             193264               15      1  \n",
      "4              27533               28      0  \n",
      "..               ...              ...    ...  \n",
      "595            39492                7      1  \n",
      "596            55369                2      1  \n",
      "597           154058                0      1  \n",
      "598           180083               17      0  \n",
      "599           158137               16      0  \n",
      "\n",
      "[600 rows x 7 columns]\n"
     ]
    }
   ],
   "source": [
    "               ## RANDOM FOREST CLASSIFIER MODEL\n",
    "##importing the necessary libraries\n",
    "import pandas as pd\n",
    "import numpy as np\n",
    "from sklearn.ensemble import RandomForestClassifier\n",
    "from sklearn.model_selection import train_test_split\n",
    "from sklearn.metrics import accuracy_score,classification_report\n",
    "\n",
    "## loading the dataset\n",
    "def read_data():\n",
    "    data = pd.read_csv(\"Fraud_file.csv\")\n",
    "    return data\n",
    "\n",
    "data = read_data()\n",
    "print(data)\n",
    "## data preparation function and spliting the data into X and y\n",
    "def data_prep(data,t):\n",
    "    X = data[['Undergrad','Marital.Status','City.Population','Work.Experience','Urban']]\n",
    "    y = data['Taxable_Class']\n",
    "    X_train,X_test,y_train,y_test = train_test_split(X,y,test_size = t,random_state=34)\n",
    "    return X_train,X_test,y_train,y_test\n",
    "## Training the model using Random forest classifier and making function \n",
    "##fitting the dataset into the model.\n",
    "def rdm_forest(X_train,y_train,X_test):\n",
    "    rf_model = RandomForestClassifier(criterion='entropy',max_depth = 8)\n",
    "    rf_model_fit = rf_model.fit(X_train,y_train)\n",
    "    pred = rf_model_fit.predict(X_test)\n",
    "    return pred\n",
    "## creating a function for the accuracy check and other parameter\n",
    "def diag_model(y_test,pred):\n",
    "    acc = accuracy_score(y_test,pred)\n",
    "    clf = classification_report(y_test,pred)\n",
    "    return acc,clf\n",
    "## calling all the function into main function.\n",
    "def main_function():\n",
    "    data = read_data()\n",
    "    X_train,X_test,y_train,y_test = data_prep(data,0.2)\n",
    "    pred = rdm_forest(X_train,y_train,X_test)\n",
    "    acc,clf = diag_model(y_test,pred)\n",
    "    return acc,clf"
   ]
  },
  {
   "cell_type": "code",
   "execution_count": 13,
   "id": "fb1685d8",
   "metadata": {},
   "outputs": [
    {
     "name": "stdout",
     "output_type": "stream",
     "text": [
      "the result of the Random forest is: (0.825, '              precision    recall  f1-score   support\\n\\n           0       0.82      1.00      0.90        99\\n           1       0.00      0.00      0.00        21\\n\\n    accuracy                           0.82       120\\n   macro avg       0.41      0.50      0.45       120\\nweighted avg       0.68      0.82      0.75       120\\n')\n"
     ]
    },
    {
     "name": "stderr",
     "output_type": "stream",
     "text": [
      "C:\\Users\\admin\\anaconda3\\Lib\\site-packages\\sklearn\\metrics\\_classification.py:1344: UndefinedMetricWarning: Precision and F-score are ill-defined and being set to 0.0 in labels with no predicted samples. Use `zero_division` parameter to control this behavior.\n",
      "  _warn_prf(average, modifier, msg_start, len(result))\n",
      "C:\\Users\\admin\\anaconda3\\Lib\\site-packages\\sklearn\\metrics\\_classification.py:1344: UndefinedMetricWarning: Precision and F-score are ill-defined and being set to 0.0 in labels with no predicted samples. Use `zero_division` parameter to control this behavior.\n",
      "  _warn_prf(average, modifier, msg_start, len(result))\n",
      "C:\\Users\\admin\\anaconda3\\Lib\\site-packages\\sklearn\\metrics\\_classification.py:1344: UndefinedMetricWarning: Precision and F-score are ill-defined and being set to 0.0 in labels with no predicted samples. Use `zero_division` parameter to control this behavior.\n",
      "  _warn_prf(average, modifier, msg_start, len(result))\n"
     ]
    }
   ],
   "source": [
    "result = main_function()\n",
    "print(\"the result of the Random forest is:\",result)"
   ]
  },
  {
   "cell_type": "code",
   "execution_count": null,
   "id": "a84cd609",
   "metadata": {},
   "outputs": [],
   "source": []
  }
 ],
 "metadata": {
  "kernelspec": {
   "display_name": "Python 3 (ipykernel)",
   "language": "python",
   "name": "python3"
  },
  "language_info": {
   "codemirror_mode": {
    "name": "ipython",
    "version": 3
   },
   "file_extension": ".py",
   "mimetype": "text/x-python",
   "name": "python",
   "nbconvert_exporter": "python",
   "pygments_lexer": "ipython3",
   "version": "3.11.3"
  }
 },
 "nbformat": 4,
 "nbformat_minor": 5
}
